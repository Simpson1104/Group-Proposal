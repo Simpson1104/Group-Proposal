{
 "cells": [
  {
   "cell_type": "markdown",
   "metadata": {},
   "source": [
    "# Predict Heart Disease Status Based on Quantifiable Variables"
   ]
  },
  {
   "cell_type": "markdown",
   "metadata": {},
   "source": [
    "# Introduction:\n",
    "\n",
    "Cardiovascular diseases (CVDs) is a class of disease that involves the heart or blood vessels. the number one cause of death globally, taking an estimated 17.9 million lives each year, which accounts for 31% of all deaths worldwide. Four out of five CVD deaths are due to heart attacks and strokes, and one-third of these deaths occur prematurely in people under 70 years of age. Heart failure is a common event caused by CVDs.\n",
    "\n",
    "People with cardiovascular disease or who are at high cardiovascular risk (due to the presence of one or more risk factors such as hypertension, diabetes, hyperlipidemia or already established disease) need early detection and management wherein a machine learning model can be of great help.\n",
    "\n",
    "Our question is can we determine heart disease status based on quantifiable variables. This dataset we will be using is a tabular data set with comma-separated variables. It has 12 variables, but we will be only using 8 variables: age, sex, Chest Pain Type, cholesterol level, old peak, resting blood pressure, maximum heart rate, and Heart Disease in order to answer our question. \n",
    "\n",
    "We choose thses as variables as they are more representative of heart disease base on our research.\n",
    "\n",
    "### Attribute Information\n",
    " 1. Age: years\n",
    " 2. Sex: (0 = MALE, 1 = FEMALE)\n",
    " 3. ChestPainType: (ATA = 1, NAP = 2, ASY =3, TA =4)\n",
    " 4. Cholesterol: (mm/dl)\n",
    " 5. Oldpeak: (Numeric value measured in depression)\n",
    " 6. RestingBP: resting blood pressure (mm HG)\n",
    " 7. MaxHR: maximum heart rate achieved (Numeric value between 60 and 202)\n",
    " 8. HeartDisease:(1: heart disease, 0: Normal)"
   ]
  },
  {
   "cell_type": "code",
   "execution_count": null,
   "metadata": {},
   "outputs": [],
   "source": [
    "library(repr)\n",
    "library(tidyverse)\n",
    "library(tidymodels)\n",
    "library(dplyr)\n",
    "library(RColorBrewer)"
   ]
  },
  {
   "cell_type": "markdown",
   "metadata": {},
   "source": [
    "#### Reading files"
   ]
  },
  {
   "cell_type": "code",
   "execution_count": null,
   "metadata": {},
   "outputs": [],
   "source": [
    "heart_data <- read_csv(\"heart.csv\") %>%\n",
    "              mutate(HeartDisease = as_factor(HeartDisease))\n",
    "\n",
    "head(heart_data)"
   ]
  },
  {
   "cell_type": "markdown",
   "metadata": {},
   "source": [
    "#### Split data to train and test¶"
   ]
  },
  {
   "cell_type": "code",
   "execution_count": null,
   "metadata": {},
   "outputs": [],
   "source": [
    "heart_split <- initial_split(heart_data, prop = 0.75, strata = HeartDisease)\n",
    "heart_train <- training(heart_split)\n",
    "heart_test <- testing(heart_split)"
   ]
  },
  {
   "cell_type": "markdown",
   "metadata": {},
   "source": [
    "#### Summarize dataset"
   ]
  },
  {
   "cell_type": "code",
   "execution_count": null,
   "metadata": {},
   "outputs": [],
   "source": [
    "num_obs <- nrow(heart_train)\n",
    "heart_sum <- heart_train %>%\n",
    "             glimpse() %>%\n",
    "             group_by(HeartDisease) %>%\n",
    "             summarize(count = n(), percentage = n()/ num_obs* 100)\n",
    "heart_sum \n",
    "\n",
    "checking_for_na <- sum(is.na(heart_train))\n",
    "checking_for_na\n",
    "\n",
    "summary(heart_train)"
   ]
  },
  {
   "cell_type": "markdown",
   "metadata": {},
   "source": [
    "#### Observations from Summary\n",
    "1. Resting BP and Cholesterol have zero as a minimum which is unusual.\n",
    "2. There may be outliers/Missings in Cholesterol and Resting BP being presented as zero.\n",
    "3. Number of rows 689 and number of columns 12.\n",
    "4. Percentage of people with heart disease: 44.70 %\n",
    "5. Percentage of people without heart disease: 55.30%"
   ]
  },
  {
   "cell_type": "markdown",
   "metadata": {},
   "source": [
    "#### Fixing zeros in and Resting BP and CHolesterol"
   ]
  },
  {
   "cell_type": "code",
   "execution_count": null,
   "metadata": {},
   "outputs": [],
   "source": [
    "heart_train <- heart_train%>%\n",
    "               filter(RestingBP != 0, Cholesterol != 0)\n",
    "count(heart_train)\n",
    "summary(heart_train)\n",
    "head(heart_train)"
   ]
  },
  {
   "cell_type": "markdown",
   "metadata": {},
   "source": [
    "#### Visualizations of data"
   ]
  },
  {
   "cell_type": "markdown",
   "metadata": {},
   "source": [
    "Heart Disease with Age"
   ]
  },
  {
   "cell_type": "code",
   "execution_count": null,
   "metadata": {},
   "outputs": [],
   "source": [
    "HeartDisease_Age_plot <- heart_train %>%\n",
    "                         ggplot(aes(x = Age, fill = Age)) +\n",
    "                         geom_bar() +\n",
    "                         facet_grid(~HeartDisease) +\n",
    "                         labs(title = \"Heart Disease with Age\", x = \"Age\", y = \"Count\")\n",
    "options(repr.plot.width = 11, repr.plot.height = 8)\n",
    "\n",
    "HeartDisease_Age_plot"
   ]
  },
  {
   "cell_type": "markdown",
   "metadata": {},
   "source": [
    "Heart Disease with Sex"
   ]
  },
  {
   "cell_type": "code",
   "execution_count": null,
   "metadata": {},
   "outputs": [],
   "source": [
    "HeartDisease_Sex_plot <- heart_train %>%\n",
    "                         ggplot(aes(x = Sex, fill = Sex)) +\n",
    "                         geom_bar() +\n",
    "                         facet_grid(~HeartDisease) +\n",
    "                         geom_text(aes(label = ..count..), stat = \"count\",  vjust = 2, colour = \"black\") +\n",
    "                         labs(title = \"Heart Disease with Sex\", x = \"Sex\", y = \"Count\", fill = \"Sex\")\n",
    "options(repr.plot.width = 8, repr.plot.height = 8)\n",
    "HeartDisease_Sex_plot"
   ]
  },
  {
   "cell_type": "markdown",
   "metadata": {},
   "source": [
    "Heart Disease with Chest Pain Type (TA: Typical Angina, ATA: Atypical Angina, NAP: Non-Anginal Pain, ASY: Asymptomatic)"
   ]
  },
  {
   "cell_type": "code",
   "execution_count": null,
   "metadata": {},
   "outputs": [],
   "source": [
    "HeartDisease_ChestPainType_plot <- heart_train %>%\n",
    "                                   ggplot(aes(x = ChestPainType, fill = ChestPainType)) +\n",
    "                                   geom_bar() +\n",
    "                                   facet_grid(~HeartDisease) +\n",
    "                                   geom_text(aes(label = ..count..), stat = \"count\",  vjust = 2, colour = \"black\") +\n",
    "                                   labs(title = \"Heart Disease with Chest Pain Type\", x = \"Chest Pain Type\", y = \"Count\", \n",
    "                                        fill = \"Chest Pain Type\")\n",
    "HeartDisease_ChestPainType_plot"
   ]
  },
  {
   "cell_type": "markdown",
   "metadata": {},
   "source": [
    "Heart Disease with Resting Blood Pressure"
   ]
  },
  {
   "cell_type": "code",
   "execution_count": null,
   "metadata": {},
   "outputs": [],
   "source": [
    "HeartDisease_RestingBP_plot <- heart_train %>%\n",
    "                               ggplot(aes(x = RestingBP, fill = RestingBP)) +\n",
    "                               geom_bar() +\n",
    "                               facet_grid(~HeartDisease) +\n",
    "                               labs(title = \"Heart Disease with Resting Blood Pressure\", x = \"Resting Blood Pressure\", y = \"Count\") \n",
    "options(repr.plot.width = 8, repr.plot.height = 8)         \n",
    "\n",
    "HeartDisease_RestingBP_plot"
   ]
  },
  {
   "cell_type": "markdown",
   "metadata": {},
   "source": [
    "Heart Disease with Serum Cholestero"
   ]
  },
  {
   "cell_type": "code",
   "execution_count": null,
   "metadata": {},
   "outputs": [],
   "source": [
    "HeartDisease_Cholesterol_plot <- heart_train %>%\n",
    "                                 ggplot(aes(x = Cholesterol, fill = Cholesterol)) +\n",
    "                                 facet_grid(~HeartDisease) +\n",
    "                                 geom_bar() +\n",
    "                                 labs(title = \"Heart Disease with Serum Cholestero\", x = \"Serum Cholestero\", y = \"Count\") \n",
    "options(repr.plot.width = 8, repr.plot.height = 8)         \n",
    "\n",
    "HeartDisease_Cholesterol_plot"
   ]
  },
  {
   "cell_type": "markdown",
   "metadata": {},
   "source": [
    "Heart Disease with Fasting Blood Sugar"
   ]
  },
  {
   "cell_type": "code",
   "execution_count": null,
   "metadata": {},
   "outputs": [],
   "source": [
    "HeartDisease_FastingBS_plot <- heart_train %>%\n",
    "                               ggplot(aes(x = FastingBS, fill = as.character(FastingBS))) +\n",
    "                               geom_bar() +\n",
    "                               facet_grid(~HeartDisease) +\n",
    "                               geom_text(aes(label = ..count..), stat = \"count\",  vjust = 2, colour = \"white\") +\n",
    "                               labs(title = \"Heart Disease with Fasting Blood Sugar\", \n",
    "                                    x = \"Fasting Blood Sugar\", y = \"Count\", fill = \"Fasting Blood Sugar\")\n",
    "HeartDisease_FastingBS_plot"
   ]
  },
  {
   "cell_type": "markdown",
   "metadata": {},
   "source": [
    "Heart Disease with Resting Electrocardiogram Results (Normal: Normal, ST: having ST-T wave abnormality, LVH: showing probable or definite left ventricular hypertrophy by Estes' criteria)"
   ]
  },
  {
   "cell_type": "code",
   "execution_count": null,
   "metadata": {},
   "outputs": [],
   "source": [
    "HeartDisease_RestingECG_plot <- heart_train %>%\n",
    "                                ggplot(aes(x = RestingECG, fill = RestingECG)) +\n",
    "                                geom_bar() +\n",
    "                                facet_grid(~HeartDisease) +\n",
    "                                geom_text(aes(label = ..count..), stat = \"count\",  vjust = 2, colour = \"black\") +\n",
    "                                labs(title = \"Heart Disease with Resting Electrocardiogram Results\", \n",
    "                                     x = \"Resting Electrocardiogram Results\", y = \"Count\", \n",
    "                                     fill = \"Resting Electrocardiogram Results\")\n",
    "HeartDisease_RestingECG_plot"
   ]
  },
  {
   "cell_type": "markdown",
   "metadata": {},
   "source": [
    "HeartDisease with Maximum Heart Rate"
   ]
  },
  {
   "cell_type": "code",
   "execution_count": null,
   "metadata": {},
   "outputs": [],
   "source": [
    "HeartDisease_RestingBP_plot <- heart_train %>%\n",
    "                               ggplot(aes(x = MaxHR, fill = MaxHR)) +\n",
    "                               facet_grid(~HeartDisease) +\n",
    "                               geom_bar() +\n",
    "                               labs(title = \"Heart Disease with Maximum Heart Rate\", x = \"Maximum Heart Rate\", y = \"Count\") \n",
    "options(repr.plot.width = 8, repr.plot.height = 8)         \n",
    "\n",
    "HeartDisease_RestingBP_plot"
   ]
  },
  {
   "cell_type": "markdown",
   "metadata": {},
   "source": [
    "Heart Disease with Exercise-Induced Angina (Y: Yes, N: No)"
   ]
  },
  {
   "cell_type": "code",
   "execution_count": null,
   "metadata": {},
   "outputs": [],
   "source": [
    "HeartDisease_ExerciseAngina_plot <- heart_train %>%\n",
    "                                    ggplot(aes(x = ExerciseAngina, fill = ExerciseAngina)) +\n",
    "                                    geom_bar() +\n",
    "                                    facet_grid(~HeartDisease) +\n",
    "                                    geom_text(aes(label = ..count..), stat = \"count\",  vjust = 2, colour = \"black\") +\n",
    "                                    labs(title = \"Heart Disease with Exercise-Induced Angina\", \n",
    "                                         x = \"Exercise-Induced Angina\", y = \"Count\", \n",
    "                                         fill = \"Exercise-Induced Angina\")\n",
    "HeartDisease_ExerciseAngina_plot "
   ]
  },
  {
   "cell_type": "markdown",
   "metadata": {},
   "source": [
    "Heart Disease with Old peak (ST, Numeric value measured in depression)"
   ]
  },
  {
   "cell_type": "code",
   "execution_count": null,
   "metadata": {},
   "outputs": [],
   "source": [
    "HeartDisease_RestingBP_plot <- heart_train %>%\n",
    "                               ggplot(aes(x = Oldpeak, fill = Oldpeak)) +\n",
    "                               facet_grid(~HeartDisease) +\n",
    "                               geom_bar() +\n",
    "                               labs(title = \"Heart Disease with Old peak\", x = \"Old peak\", y = \"Count\") \n",
    "options(repr.plot.width = 8, repr.plot.height = 8)         \n",
    "\n",
    "HeartDisease_RestingBP_plot"
   ]
  },
  {
   "cell_type": "markdown",
   "metadata": {},
   "source": [
    "Heart Disease with ST_Slope(ST_Slope: the slope of the peak exercise ST segment Up: upsloping, Flat: flat, Down: downsloping)"
   ]
  },
  {
   "cell_type": "code",
   "execution_count": null,
   "metadata": {},
   "outputs": [],
   "source": [
    "HeartDisease_ST_Slope_plot <- heart_train %>%\n",
    "                              ggplot(aes(x = ST_Slope, fill = HeartDisease)) +\n",
    "                              geom_bar() +\n",
    "                              facet_grid(~HeartDisease) +\n",
    "                              geom_text(aes(label = ..count..), stat = \"count\",  vjust = 2, colour = \"black\") +\n",
    "                              labs(title = \"Heart Disease with ST Slope\", x = \"ST Slope\", y = \"Count\", fill = \"Heart Disease\")\n",
    "\n",
    "HeartDisease_ST_Slope_plot"
   ]
  },
  {
   "cell_type": "markdown",
   "metadata": {},
   "source": [
    "#### Covert Charaters to Nummerics"
   ]
  },
  {
   "cell_type": "code",
   "execution_count": null,
   "metadata": {},
   "outputs": [],
   "source": [
    "heart_train <- heart_train %>%\n",
    "                 mutate(Sex = as_factor(Sex)) %>%\n",
    "                 mutate(Sex = as.numeric(Sex)) %>%\n",
    "                 mutate(ChestPainType = as_factor(ChestPainType)) %>%\n",
    "                 mutate(ChestPainType = as.numeric(ChestPainType))\n",
    "\n",
    "head(heart_train)"
   ]
  },
  {
   "cell_type": "markdown",
   "metadata": {},
   "source": [
    "#### Finding the Best K"
   ]
  },
  {
   "cell_type": "code",
   "execution_count": null,
   "metadata": {},
   "outputs": [],
   "source": [
    "knn_tune <- nearest_neighbor(weight_func = \"rectangular\", neighbors = tune()) %>% \n",
    "            set_engine(\"kknn\") %>%\n",
    "            set_mode(\"classification\")\n",
    "\n",
    "heart_recipe <- recipe(HeartDisease ~ Age + Sex + ChestPainType + MaxHR, data = heart_train) %>%\n",
    "step_scale(all_predictors()) %>%\n",
    "step_center(all_predictors())\n",
    "\n",
    "preprocessed_data <- heart_recipe %>% \n",
    "                     prep() %>%\n",
    "                     bake(heart_train)\n",
    "\n",
    "heart_vfold <- vfold_cv(heart_train, v = 5, strata = HeartDisease)\n",
    "\n",
    "heart_workflow <- workflow() %>% \n",
    "                  add_recipe(heart_recipe) %>%\n",
    "                  add_model(knn_tune)\n",
    "\n",
    "\n",
    "gridvals <- tibble(neighbors = seq(from = 1, to = 200))\n",
    "\n",
    "\n",
    "#heart_results <- heart_workflow %>%\n",
    "       #          tune_grid(resamples = heart_vfold, grid = gridvals) %>% \n",
    "      #           collect_metrics()\n",
    "\n",
    "knn_tune\n",
    "heart_recipe\n",
    "head(preprocessed_data)\n",
    "\n",
    "\n",
    "#heart_results\n",
    "#note Sex M = 2, F = 1\n",
    "# ChetPainType ATA = 2, ASY =1, NAP =3"
   ]
  },
  {
   "cell_type": "markdown",
   "metadata": {},
   "source": [
    "# Methodolgy:\n",
    "We will start by analyzing all of the graphs above and looking at each of the 7 variables to see its relationship with heart disease. The ones with the strongest correlation between the variable and heart diseases, we will use as our predictor variable:\n",
    "1. Age vs. Heart Disease: people between the ages of 55-65 seem to have the most heart diseases.\n",
    "2. Sex vs. Heart Disease: Males are much more likely to have heart disease. \n",
    "3. Chest Pain Type:  People with ASY chest pain are more likely to have heart diseases\n",
    "4. Resting Blood pressure vs. Diseases: There's a weak positive relation but it's strong enough to make it a predictor variable. \n",
    "5. Cholesterol vs. Heart Diseases: There doesn't seem to be a correlation between cholesterol and heart disease. \n",
    "6. Maximum Heart rate vs. Heart diseases: people with a maximum heart rate in the range of 100-150 are more likely to have heart disease. \n",
    "7. Old Peak vs Heart Diseases: There's no correlation between old peak and heart disease. \n",
    "\n",
    "Based on this information we will be using age, sex, chest pain type, maximum heart rate,  as the predictor variables. So far we have only used a maximum of 2 predictor variables in this course. But later on in the final report, we plan on using multivariable linear regression to predict whether a person has heart disease or not that will take into account all of the predictor variables. We can also chnage the background color ti plot what the classifer will likely predict as we saw in the reading for week 7."
   ]
  },
  {
   "cell_type": "markdown",
   "metadata": {},
   "source": [
    "# Expected outcomes and significance:\n",
    "We expect to find that the 4 predictor variables: age, sex, chest pain type, and maximum heart rate will help us tell if a person has heart disease or not, as there's a strong correlation between each predictor variable and heart disease. The impact of these findings would be very significant. People with cardiovascular disease or who are at high cardiovascular risk (due to the presence of one or more risk factors such as hypertension, diabetes, hyperlipidemia or already established disease) need early detection and management wherein a machine learning model can be of great help. In the future, we should try to improve the accuracy of the overall algorithm by adding more predictor variables and having a large sample scale for the data. This same technique can then be applied to detect other types of diseases such as pneumonia in patients. The algorithm removes human error and there's very little chance of the algorithm misdiagnosing someone if it has a strong accuracy.  "
   ]
  },
  {
   "cell_type": "code",
   "execution_count": null,
   "metadata": {},
   "outputs": [],
   "source": []
  }
 ],
 "metadata": {
  "kernelspec": {
   "display_name": "R",
   "language": "R",
   "name": "ir"
  },
  "language_info": {
   "codemirror_mode": "r",
   "file_extension": ".r",
   "mimetype": "text/x-r-source",
   "name": "R",
   "pygments_lexer": "r",
   "version": "4.0.0"
  }
 },
 "nbformat": 4,
 "nbformat_minor": 4
}
